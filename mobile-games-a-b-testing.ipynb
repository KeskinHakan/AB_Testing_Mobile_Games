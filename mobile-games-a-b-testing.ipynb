{
 "cells": [
  {
   "cell_type": "markdown",
   "id": "c23d9e29",
   "metadata": {
    "_cell_guid": "b1076dfc-b9ad-4769-8c92-a6c4dae69d19",
    "_uuid": "8f2839f25d086af736a60e9eeb907d3b93b6e0e5",
    "papermill": {
     "duration": 0.007196,
     "end_time": "2023-03-14T20:19:49.088435",
     "exception": false,
     "start_time": "2023-03-14T20:19:49.081239",
     "status": "completed"
    },
    "tags": []
   },
   "source": [
    "<h1 id=\"basics\" style=\"font-family:verdana;\"> \n",
    "    <center> A/B Testing for the Mobile Games Dataset\n",
    "    </center>\n",
    "</h1>\n",
    "<div style=\"width:100%;text-align: center;\"> <img align=middle src=\"https://appradar.com/wp-content/uploads/2021/06/mobile_app_ab_testing-754x503.png\" alt=\"A/B Testing\" style=\"height:500px;margin-top:1rem;\"> </div>\n",
    "\n"
   ]
  },
  {
   "cell_type": "markdown",
   "id": "8074878d",
   "metadata": {
    "papermill": {
     "duration": 0.004855,
     "end_time": "2023-03-14T20:19:49.098824",
     "exception": false,
     "start_time": "2023-03-14T20:19:49.093969",
     "status": "completed"
    },
    "tags": []
   },
   "source": [
    "This dataset includes A/B test results of Cookie Cats to examine what happens when the first gate in the game was moved from level 30 to level 40. When a player installed the game, he or she was randomly assigned to either gate_30 or gate_40.\n",
    "\n",
    "The data we have is from 90,189 players that installed the game while the AB-test was running. The variables are:\n",
    "\n",
    "1. userid: A unique number that identifies each player.\n",
    "2. version: Whether the player was put in the control group (gate_30 - a gate at level 30) or the group with the moved gate (gate_40 - a gate at level 40).\n",
    "3. sum_gamerounds: the number of game rounds played by the player during the first 14 days after install.\n",
    "4. retention_1: Did the player come back and play 1 day after installing?\n",
    "5. retention_7: Did the player come back and play 7 days after installing?\n",
    "\n",
    "When a player installed the game, he or she was randomly assigned to either."
   ]
  },
  {
   "cell_type": "markdown",
   "id": "3eebd96f",
   "metadata": {
    "papermill": {
     "duration": 0.004865,
     "end_time": "2023-03-14T20:19:49.108957",
     "exception": false,
     "start_time": "2023-03-14T20:19:49.104092",
     "status": "completed"
    },
    "tags": []
   },
   "source": [
    "## Main topics of the study can be seen below:\n",
    "\n",
    "* [Aim of the study](#section-one)\n",
    "* [Understanding the data](#section-two)\n",
    "* [Preparation of data](#section-three)\n",
    "* [What is the A/B Testing](#section-four)\n",
    "* [A/B Testing Model Process](#section-five)\n",
    "* [Hypothesis](#section-six)\n",
    "* [Assumption Control](#section-seven)\n",
    "    * [Normal Distribution](#section-eight)\n",
    "    * [Variance Homogeneity Assumption](#section-nine)\n",
    "* [Apply of the Hypothesis](#section-ten)\n",
    "* [Conclusion and Reccomendation](#section-eleven)\n",
    "\n"
   ]
  },
  {
   "cell_type": "markdown",
   "id": "44e8f724",
   "metadata": {
    "papermill": {
     "duration": 0.004817,
     "end_time": "2023-03-14T20:19:49.118920",
     "exception": false,
     "start_time": "2023-03-14T20:19:49.114103",
     "status": "completed"
    },
    "tags": []
   },
   "source": [
    "<a id=\"section-one\"></a>\n",
    "## 1. Aim of the Study\n",
    "\n",
    "This dataset includes A/B test results of Cookie Cats to examine what happens when the first gate in the game was moved from level 30 to level 40. When a player installed the game, he or she was randomly assigned to either gate_30 or gate_40. In this study, we will try to find out whether gate 30 - gate 40 effected to game playing duration or not.\n",
    "\n",
    "<div style=\"width:100%;text-align: center;\"> <img align=middle src=\"https://devopedia.org/images/article/32/6055.1530296772.jpg\" alt=\"A/B Testing\" style=\"height:500px;margin-top:1rem;\"> </div>"
   ]
  },
  {
   "cell_type": "markdown",
   "id": "0c06c3ac",
   "metadata": {
    "papermill": {
     "duration": 0.004821,
     "end_time": "2023-03-14T20:19:49.128914",
     "exception": false,
     "start_time": "2023-03-14T20:19:49.124093",
     "status": "completed"
    },
    "tags": []
   },
   "source": [
    "<a id=\"section-two\"></a>\n",
    "## 2. Understanding the Data\n",
    "\n",
    "First of all we should import the libraries that will use during the analysis process."
   ]
  },
  {
   "cell_type": "code",
   "execution_count": 1,
   "id": "a7dafef0",
   "metadata": {
    "execution": {
     "iopub.execute_input": "2023-03-14T20:19:49.142361Z",
     "iopub.status.busy": "2023-03-14T20:19:49.141427Z",
     "iopub.status.idle": "2023-03-14T20:19:50.813473Z",
     "shell.execute_reply": "2023-03-14T20:19:50.812083Z"
    },
    "papermill": {
     "duration": 1.68279,
     "end_time": "2023-03-14T20:19:50.816863",
     "exception": false,
     "start_time": "2023-03-14T20:19:49.134073",
     "status": "completed"
    },
    "tags": []
   },
   "outputs": [],
   "source": [
    "# Lets import the dataset\n",
    "\n",
    "import itertools\n",
    "import numpy as np\n",
    "import pandas as pd\n",
    "import matplotlib.pyplot as plt\n",
    "import seaborn as sns\n",
    "import statsmodels.stats.api as sms\n",
    "from scipy.stats import ttest_1samp, shapiro, levene, ttest_ind, mannwhitneyu, pearsonr, spearmanr, \\\n",
    "    kendalltau, f_oneway, kruskal"
   ]
  },
  {
   "cell_type": "code",
   "execution_count": 2,
   "id": "eefaa60a",
   "metadata": {
    "execution": {
     "iopub.execute_input": "2023-03-14T20:19:50.830224Z",
     "iopub.status.busy": "2023-03-14T20:19:50.829774Z",
     "iopub.status.idle": "2023-03-14T20:19:50.942490Z",
     "shell.execute_reply": "2023-03-14T20:19:50.941437Z"
    },
    "papermill": {
     "duration": 0.12269,
     "end_time": "2023-03-14T20:19:50.945203",
     "exception": false,
     "start_time": "2023-03-14T20:19:50.822513",
     "status": "completed"
    },
    "tags": []
   },
   "outputs": [],
   "source": [
    "# Lets import the dataset\n",
    "\n",
    "df = pd.read_csv(r\"/kaggle/input/mobile-games-ab-testing-cookie-cats/cookie_cats.csv\", encoding= 'unicode_escape')"
   ]
  },
  {
   "cell_type": "code",
   "execution_count": 3,
   "id": "a655ebb7",
   "metadata": {
    "execution": {
     "iopub.execute_input": "2023-03-14T20:19:50.958967Z",
     "iopub.status.busy": "2023-03-14T20:19:50.958263Z",
     "iopub.status.idle": "2023-03-14T20:19:51.038567Z",
     "shell.execute_reply": "2023-03-14T20:19:51.037135Z"
    },
    "papermill": {
     "duration": 0.092239,
     "end_time": "2023-03-14T20:19:51.043032",
     "exception": false,
     "start_time": "2023-03-14T20:19:50.950793",
     "status": "completed"
    },
    "tags": []
   },
   "outputs": [
    {
     "name": "stdout",
     "output_type": "stream",
     "text": [
      "########## Info #############\n",
      "<class 'pandas.core.frame.DataFrame'>\n",
      "RangeIndex: 90189 entries, 0 to 90188\n",
      "Data columns (total 5 columns):\n",
      " #   Column          Non-Null Count  Dtype \n",
      "---  ------          --------------  ----- \n",
      " 0   userid          90189 non-null  int64 \n",
      " 1   version         90189 non-null  object\n",
      " 2   sum_gamerounds  90189 non-null  int64 \n",
      " 3   retention_1     90189 non-null  bool  \n",
      " 4   retention_7     90189 non-null  bool  \n",
      "dtypes: bool(2), int64(2), object(1)\n",
      "memory usage: 2.2+ MB\n",
      "None\n",
      "########## Shape #############\n",
      "(90189, 5)\n",
      "########## Data Types #############\n",
      "userid             int64\n",
      "version           object\n",
      "sum_gamerounds     int64\n",
      "retention_1         bool\n",
      "retention_7         bool\n",
      "dtype: object\n",
      "########## Head of Data #############\n",
      "   userid  version  sum_gamerounds  retention_1  retention_7\n",
      "0     116  gate_30               3        False        False\n",
      "1     337  gate_30              38         True        False\n",
      "2     377  gate_40             165         True        False\n",
      "3     483  gate_40               1        False        False\n",
      "4     488  gate_40             179         True         True\n",
      "########## Tail of Data #############\n",
      "        userid  version  sum_gamerounds  retention_1  retention_7\n",
      "90184  9999441  gate_40              97         True        False\n",
      "90185  9999479  gate_40              30        False        False\n",
      "90186  9999710  gate_30              28         True        False\n",
      "90187  9999768  gate_40              51         True        False\n",
      "90188  9999861  gate_40              16        False        False\n",
      "########## Null Values of Data #############\n",
      "userid            0\n",
      "version           0\n",
      "sum_gamerounds    0\n",
      "retention_1       0\n",
      "retention_7       0\n",
      "dtype: int64\n",
      "########## Describe of the Numerical Datas #############\n",
      "                  count          mean           std    min     0%        5%  \\\n",
      "userid          90189.0  4.998412e+06  2.883286e+06  116.0  116.0  502935.0   \n",
      "sum_gamerounds  90189.0  5.187246e+01  1.950509e+02    0.0    0.0       1.0   \n",
      "\n",
      "                      50%        95%         99%       100%        max  \n",
      "userid          4995815.0  9492761.6  9899751.28  9999861.0  9999861.0  \n",
      "sum_gamerounds       16.0      221.0      493.00    49854.0    49854.0  \n"
     ]
    }
   ],
   "source": [
    "# To understand the \"check_df\" functione can be used to decide the what should we do about the data.\n",
    "\n",
    "def check_df(dataframe, head=5):\n",
    "    print(\"########## Info #############\")\n",
    "    print(dataframe.info())\n",
    "    print(\"########## Shape #############\")\n",
    "    print(dataframe.shape)\n",
    "    print(\"########## Data Types #############\")\n",
    "    print(dataframe.dtypes)\n",
    "    print(\"########## Head of Data #############\")\n",
    "    print(dataframe.head(head))\n",
    "    print(\"########## Tail of Data #############\")\n",
    "    print(dataframe.tail(head))\n",
    "    print(\"########## Null Values of Data #############\")\n",
    "    print(dataframe.isnull().sum())\n",
    "    print(\"########## Describe of the Numerical Datas #############\")\n",
    "    print(dataframe.describe([0, 0.05, 0.50, 0.95, 0.99, 1]).T)\n",
    "\n",
    "check_df(df)"
   ]
  },
  {
   "cell_type": "markdown",
   "id": "3b85a90e",
   "metadata": {
    "papermill": {
     "duration": 0.005374,
     "end_time": "2023-03-14T20:19:51.054988",
     "exception": false,
     "start_time": "2023-03-14T20:19:51.049614",
     "status": "completed"
    },
    "tags": []
   },
   "source": [
    "Before the start the analysis, according to dataset summary, dataset has 5 variables. Lets check them;\n",
    "\n",
    "1. userid: A unique number that identifies each player.\n",
    "2. version: Whether the player was put in the control group (gate_30 - a gate at level 30) or the group with the moved gate (gate_40 - a gate at level 40).\n",
    "3. sum_gamerounds: the number of game rounds played by the player during the first 14 days after install.\n",
    "4. retention_1: Did the player come back and play 1 day after installing?\n",
    "5. retention_7: Did the player come back and play 7 days after installing?\n",
    "\n",
    "According to quick analysis of the data, dataset does not have any null data and all userids are used as individually.\n"
   ]
  },
  {
   "cell_type": "markdown",
   "id": "c98464a0",
   "metadata": {
    "papermill": {
     "duration": 0.006495,
     "end_time": "2023-03-14T20:19:51.067722",
     "exception": false,
     "start_time": "2023-03-14T20:19:51.061227",
     "status": "completed"
    },
    "tags": []
   },
   "source": [
    "<a id=\"section-three\"></a>\n",
    "## 3. Preparation of the Data\n",
    "\n",
    "In this stage, If any null values are in the dataset, they will drop it from the data."
   ]
  },
  {
   "cell_type": "code",
   "execution_count": 4,
   "id": "f6225941",
   "metadata": {
    "execution": {
     "iopub.execute_input": "2023-03-14T20:19:51.081247Z",
     "iopub.status.busy": "2023-03-14T20:19:51.080742Z",
     "iopub.status.idle": "2023-03-14T20:19:51.138539Z",
     "shell.execute_reply": "2023-03-14T20:19:51.137085Z"
    },
    "papermill": {
     "duration": 0.067736,
     "end_time": "2023-03-14T20:19:51.141255",
     "exception": false,
     "start_time": "2023-03-14T20:19:51.073519",
     "status": "completed"
    },
    "tags": []
   },
   "outputs": [
    {
     "data": {
      "text/html": [
       "<div>\n",
       "<style scoped>\n",
       "    .dataframe tbody tr th:only-of-type {\n",
       "        vertical-align: middle;\n",
       "    }\n",
       "\n",
       "    .dataframe tbody tr th {\n",
       "        vertical-align: top;\n",
       "    }\n",
       "\n",
       "    .dataframe thead th {\n",
       "        text-align: right;\n",
       "    }\n",
       "</style>\n",
       "<table border=\"1\" class=\"dataframe\">\n",
       "  <thead>\n",
       "    <tr style=\"text-align: right;\">\n",
       "      <th></th>\n",
       "      <th>count</th>\n",
       "      <th>mean</th>\n",
       "      <th>std</th>\n",
       "      <th>min</th>\n",
       "      <th>25%</th>\n",
       "      <th>50%</th>\n",
       "      <th>75%</th>\n",
       "      <th>max</th>\n",
       "    </tr>\n",
       "  </thead>\n",
       "  <tbody>\n",
       "    <tr>\n",
       "      <th>userid</th>\n",
       "      <td>90189.0</td>\n",
       "      <td>4.998412e+06</td>\n",
       "      <td>2.883286e+06</td>\n",
       "      <td>116.0</td>\n",
       "      <td>2512230.0</td>\n",
       "      <td>4995815.0</td>\n",
       "      <td>7496452.0</td>\n",
       "      <td>9999861.0</td>\n",
       "    </tr>\n",
       "    <tr>\n",
       "      <th>sum_gamerounds</th>\n",
       "      <td>90189.0</td>\n",
       "      <td>5.187246e+01</td>\n",
       "      <td>1.950509e+02</td>\n",
       "      <td>0.0</td>\n",
       "      <td>5.0</td>\n",
       "      <td>16.0</td>\n",
       "      <td>51.0</td>\n",
       "      <td>49854.0</td>\n",
       "    </tr>\n",
       "  </tbody>\n",
       "</table>\n",
       "</div>"
      ],
      "text/plain": [
       "                  count          mean           std    min        25%  \\\n",
       "userid          90189.0  4.998412e+06  2.883286e+06  116.0  2512230.0   \n",
       "sum_gamerounds  90189.0  5.187246e+01  1.950509e+02    0.0        5.0   \n",
       "\n",
       "                      50%        75%        max  \n",
       "userid          4995815.0  7496452.0  9999861.0  \n",
       "sum_gamerounds       16.0       51.0    49854.0  "
      ]
     },
     "execution_count": 4,
     "metadata": {},
     "output_type": "execute_result"
    }
   ],
   "source": [
    "# dropna() command will help to drop the null values from the data.\n",
    "df.shape\n",
    "df.isnull().sum()\n",
    "df.dropna(inplace = True)\n",
    "\n",
    "# Lets check the data\n",
    "\n",
    "df.describe().T\n"
   ]
  },
  {
   "cell_type": "markdown",
   "id": "2bd6939d",
   "metadata": {
    "papermill": {
     "duration": 0.005589,
     "end_time": "2023-03-14T20:19:51.152868",
     "exception": false,
     "start_time": "2023-03-14T20:19:51.147279",
     "status": "completed"
    },
    "tags": []
   },
   "source": [
    "<a id=\"section-four\"></a>\n",
    "## 4. What is the A/B Testing\n",
    "\n",
    "<div style=\"width:100%;text-align: center;\"> <img align=middle src=\"https://sp-ao.shortpixel.ai/client/to_auto,q_glossy,ret_img,w_900/https://www.brillmark.com/wp-content/uploads/2021/03/What-is-AB-Testing.png\" alt=\"A/B Testing\" style=\"height:300px;margin-top:1rem;\"> </div>\n",
    "\n",
    "> A/B testing (also known as split testing or bucket testing) is a methodology for comparing two versions of a webpage or app against each other to determine which one performs better. A/B testing is essentially an experiment where two or more variants of a page are shown to users at random, and statistical analysis is used to determine which variation performs better for a given conversion goal.\n",
    "\n",
    "> Running an A/B test that directly compares a variation against a current experience lets you ask focused questions about changes to your website or app and then collect data about the impact of that change.\n",
    "\n",
    "> Testing takes the guesswork out of website optimization and enables data-informed decisions that shift business conversations from \"we think\" to \"we know.\" By measuring the impact that changes have on your metrics, you can ensure that every change produces positive results.\n"
   ]
  },
  {
   "cell_type": "markdown",
   "id": "d330a58f",
   "metadata": {
    "papermill": {
     "duration": 0.005412,
     "end_time": "2023-03-14T20:19:51.164166",
     "exception": false,
     "start_time": "2023-03-14T20:19:51.158754",
     "status": "completed"
    },
    "tags": []
   },
   "source": [
    "<a id=\"section-five\"></a>\n",
    "## 5. A/B Testing Model Process\n",
    "\n",
    "To apply the A/B Testing for the dataset we should have follow the fundamental steps according to literature of the A/B Testing. These steps can be seen below:\n",
    "\n",
    "1. Hypothesis\n",
    "2. Assumptions Control\n",
    "3. Apply of the Hyphothesis"
   ]
  },
  {
   "cell_type": "markdown",
   "id": "9d73aad6",
   "metadata": {
    "papermill": {
     "duration": 0.006472,
     "end_time": "2023-03-14T20:19:51.176425",
     "exception": false,
     "start_time": "2023-03-14T20:19:51.169953",
     "status": "completed"
    },
    "tags": []
   },
   "source": [
    "<a id=\"section-six\"></a>\n",
    "## 6. Hypothesis\n",
    "\n",
    "First step of the A/B Testing we should define the \"Hypothesis\". It means, which condition or situation will be tested in the dataset and what is the boundaries of the hypothesis step.\n",
    "\n",
    "According to literature, A/B testing has two hyphtohesises H0 and H1. Lets explain these hypothesises.\n",
    "\n",
    "> A statistical hypothesis is an assertion or conjecture concerning one or more populations. To prove that a hypothesis is true, or false, with absolute certainty, we would need absolute knowledge. That is, we would have to examine the entire population. Instead, hypothesis testing concerns on how to use a random sample to judge if it is evidence that supports or not the hypothesis.\n",
    "\n",
    "Hypothesis testing is formulated in terms of two hypotheses:\n",
    "- H0: the null hypothesis;\n",
    "- H1: the alternate hypothesis.\n",
    "    \n",
    "    \n",
    "The hypothesis we want to test is if H1 is “likely” true. So, there are two possible outcomes:\n",
    "- Reject H0 and accept H1 because of sufficient evidence in the sample in favor or H1;\n",
    "- Do not reject H0 because of insufficient evidence to support H1.\n",
    "\n",
    "Note that failure to reject H0 does not mean the null hypothesis is true. There is no formal outcome that says “accept H0.” It only means that we do not have sufficient evidence to support H1."
   ]
  },
  {
   "cell_type": "markdown",
   "id": "30c20ed8",
   "metadata": {
    "papermill": {
     "duration": 0.005227,
     "end_time": "2023-03-14T20:19:51.187785",
     "exception": false,
     "start_time": "2023-03-14T20:19:51.182558",
     "status": "completed"
    },
    "tags": []
   },
   "source": [
    "<a id=\"section-seven\"></a>\n",
    "## 7. Assumption Control"
   ]
  },
  {
   "cell_type": "markdown",
   "id": "9dc03e9a",
   "metadata": {
    "papermill": {
     "duration": 0.005218,
     "end_time": "2023-03-14T20:19:51.198603",
     "exception": false,
     "start_time": "2023-03-14T20:19:51.193385",
     "status": "completed"
    },
    "tags": []
   },
   "source": [
    "<a id=\"section-eight\"></a>\n",
    "### 7.1 Normal Distribution\n",
    "\n",
    "To understand if the mean of a sample is significantly different from the population mean (μ), we need to perform a Z-test. At the moment we are interested in a two-tails test that is formulated as:\n",
    "\n",
    "H0: m = m0 – Null hypothesis – The mean of our sample (m or X-bar) is not different to the value m0.\n",
    "H1: m ≠ m0 – Alternative hypothesis – The mean of our sample (m) is different to the value m0.\n",
    "\n",
    "The Z-score is calculated based on the formula below:\n",
    "\n",
    "<div style=\"width:100%;text-align: center;\"> <img align=middle src=\"https://analyticsmayhem.com/wp-content/uploads/2021/03/z-score.gif\" alt=\"A/B Testing\" style=\"height:30px;margin-top:1rem;\"> </div>\n",
    "\n",
    "- X-bar: sample mean\n",
    "- μ: population meean\n",
    "- σ: population standard deviation\n",
    "\n",
    "<div style=\"width:100%;text-align: center;\"> <img align=middle src=\"https://analyticsmayhem.com/wp-content/uploads/2021/03/snd.png\" alt=\"A/B Testing\" style=\"height:600px;margin-top:1rem;\"> </div>\n"
   ]
  },
  {
   "cell_type": "code",
   "execution_count": 5,
   "id": "b6c94c5a",
   "metadata": {
    "execution": {
     "iopub.execute_input": "2023-03-14T20:19:51.212208Z",
     "iopub.status.busy": "2023-03-14T20:19:51.211721Z",
     "iopub.status.idle": "2023-03-14T20:19:51.248698Z",
     "shell.execute_reply": "2023-03-14T20:19:51.246724Z"
    },
    "papermill": {
     "duration": 0.048029,
     "end_time": "2023-03-14T20:19:51.252245",
     "exception": false,
     "start_time": "2023-03-14T20:19:51.204216",
     "status": "completed"
    },
    "tags": []
   },
   "outputs": [
    {
     "name": "stdout",
     "output_type": "stream",
     "text": [
      "Test Stat = 0.0881, p-value = 0.0000\n",
      "Test Stat = 0.4826, p-value = 0.0000\n"
     ]
    },
    {
     "name": "stderr",
     "output_type": "stream",
     "text": [
      "/opt/conda/lib/python3.7/site-packages/scipy/stats/morestats.py:1760: UserWarning: p-value may not be accurate for N > 5000.\n",
      "  warnings.warn(\"p-value may not be accurate for N > 5000.\")\n"
     ]
    }
   ],
   "source": [
    "####################################\n",
    "# Normal Distribution\n",
    "####################################\n",
    "\n",
    "# H0: Normal distribution assumption is true.\n",
    "# H1: False.\n",
    "\n",
    "# If p-value < 0.05, H0 = Reject\n",
    "# If p-value > 0.05 H0 = Cannot Reject.\n",
    "\n",
    "# Normal Distribution control for gate_30\n",
    "\n",
    "test_stat, pvalue = shapiro(df.loc[df[\"version\"] == \"gate_30\", \"sum_gamerounds\"])\n",
    "print(\"Test Stat = %.4f, p-value = %.4f\" % (test_stat, pvalue))\n",
    "\n",
    "# Normal Distribution control for gate_40\n",
    "\n",
    "test_stat, pvalue = shapiro(df.loc[df[\"version\"] == \"gate_40\", \"sum_gamerounds\"])\n",
    "print(\"Test Stat = %.4f, p-value = %.4f\" % (test_stat, pvalue))\n",
    "\n",
    "# According to p-values, H0 = Reject"
   ]
  },
  {
   "cell_type": "markdown",
   "id": "9c187a72",
   "metadata": {
    "papermill": {
     "duration": 0.005716,
     "end_time": "2023-03-14T20:19:51.264235",
     "exception": false,
     "start_time": "2023-03-14T20:19:51.258519",
     "status": "completed"
    },
    "tags": []
   },
   "source": [
    "<a id=\"section-nine\"></a>\n",
    "### 7.2 Variance Homogeneity Assumption\n",
    "\n",
    "The assumption of homogeneity of variance means that the level of variance for a particular variable is constant across the sample. If you’ve collected groups of data then this means that the variance of your outcome variable(s) should be the same in each of these groups (i.e. across schools, years, testing groups or predicted values)."
   ]
  },
  {
   "cell_type": "code",
   "execution_count": 6,
   "id": "b05cd5e1",
   "metadata": {
    "execution": {
     "iopub.execute_input": "2023-03-14T20:19:51.278363Z",
     "iopub.status.busy": "2023-03-14T20:19:51.277883Z",
     "iopub.status.idle": "2023-03-14T20:19:51.305704Z",
     "shell.execute_reply": "2023-03-14T20:19:51.304190Z"
    },
    "papermill": {
     "duration": 0.038346,
     "end_time": "2023-03-14T20:19:51.308571",
     "exception": false,
     "start_time": "2023-03-14T20:19:51.270225",
     "status": "completed"
    },
    "tags": []
   },
   "outputs": [
    {
     "name": "stdout",
     "output_type": "stream",
     "text": [
      "Test Stat = 0.5292, p-value = 0.4669\n"
     ]
    }
   ],
   "source": [
    "####################################\n",
    "# Variance Homogeneity Assumption:\n",
    "####################################\n",
    "\n",
    "# H0: Variance is homogeneous.\n",
    "# H1: Variance is not homogeneous.\n",
    "\n",
    "# If p-value < 0.05, H0 = Reject\n",
    "# If p-value > 0.05 H0 = Cannot Reject.\n",
    "\n",
    "test_stat, pvalue = levene(df.loc[df[\"version\"] == \"gate_30\", \"sum_gamerounds\"],\n",
    "                            df.loc[df[\"version\"] == \"gate_40\", \"sum_gamerounds\"])\n",
    "print(\"Test Stat = %.4f, p-value = %.4f\" % (test_stat, pvalue))\n",
    "\n",
    "# According to p-values, H0 =  Cannot Reject"
   ]
  },
  {
   "cell_type": "markdown",
   "id": "c57e40c7",
   "metadata": {
    "papermill": {
     "duration": 0.005699,
     "end_time": "2023-03-14T20:19:51.320336",
     "exception": false,
     "start_time": "2023-03-14T20:19:51.314637",
     "status": "completed"
    },
    "tags": []
   },
   "source": [
    "<a id=\"section-ten\"></a>\n",
    "## 8. Apply of the Hypothesis\n",
    "\n",
    "According to \"Normal Distribution\" and \"Variance Homogeneity Assumption\" controls shown that the first control H0 = reject, and the second one is H0 = Cannot reject. It means, we should use the mannwtihneyu() command to apply of the hypothesis.\n",
    "\n",
    "The Mann-Whitney test is based on a comparison of every observation xi in the first sample with every observation yj in the other sample. The total number of pairwise comparisons that can be made is nxny."
   ]
  },
  {
   "cell_type": "code",
   "execution_count": 7,
   "id": "6700311a",
   "metadata": {
    "execution": {
     "iopub.execute_input": "2023-03-14T20:19:51.334415Z",
     "iopub.status.busy": "2023-03-14T20:19:51.333556Z",
     "iopub.status.idle": "2023-03-14T20:19:51.419412Z",
     "shell.execute_reply": "2023-03-14T20:19:51.418010Z"
    },
    "papermill": {
     "duration": 0.096605,
     "end_time": "2023-03-14T20:19:51.422801",
     "exception": false,
     "start_time": "2023-03-14T20:19:51.326196",
     "status": "completed"
    },
    "tags": []
   },
   "outputs": [
    {
     "name": "stdout",
     "output_type": "stream",
     "text": [
      "Test Stat = 1024331250.5000, p-value = 0.0502\n"
     ]
    }
   ],
   "source": [
    "####################################\n",
    "# Apply of the Hypothesis:\n",
    "####################################\n",
    "\n",
    "test_stat, pvalue = mannwhitneyu(df.loc[df[\"version\"] == \"gate_30\", \"sum_gamerounds\"],\n",
    "                            df.loc[df[\"version\"] == \"gate_40\", \"sum_gamerounds\"])\n",
    "print(\"Test Stat = %.4f, p-value = %.4f\" % (test_stat, pvalue))\n",
    "\n",
    "# If p-value < 0.05, H0 = Reject\n",
    "# If p-value > 0.05 H0 = Cannot Reject."
   ]
  },
  {
   "cell_type": "markdown",
   "id": "c789a71f",
   "metadata": {
    "papermill": {
     "duration": 0.005617,
     "end_time": "2023-03-14T20:19:51.434648",
     "exception": false,
     "start_time": "2023-03-14T20:19:51.429031",
     "status": "completed"
    },
    "tags": []
   },
   "source": [
    "<a id=\"section-eleven\"></a>\n",
    "## 9. Conclusion and Recommendation\n",
    "\n",
    "According to A/B Testing results to find out the effect of the \"gate_30\" and \"gate_40\" are effected to the total game rounds that played on the game? \n",
    "\n",
    "In the first of testing process, we ask as \"means are equal or not\" for the case study that shared above. To find out it, firstly checked normal distribution and variance homogeneity assumption are distributed normal or not? A/B testing says that if Normal Distribution is not equal, you should use the Mann-Whitney U test to find out the effect of the \"gate_30\" and \"gate_40\". \n",
    "\n",
    "The result of the Mann-Whitney U test, p-value calculated as 0.0502, and it means H0 = Cannot Reject according to Hypothesis assumption, and its meaning for the A/B Testing, both gates results are occurred just accidentally. \n"
   ]
  },
  {
   "cell_type": "markdown",
   "id": "111d6262",
   "metadata": {
    "papermill": {
     "duration": 0.005753,
     "end_time": "2023-03-14T20:19:51.446317",
     "exception": false,
     "start_time": "2023-03-14T20:19:51.440564",
     "status": "completed"
    },
    "tags": []
   },
   "source": [
    "## Keep in Touch!\n",
    "\n",
    "You can follow my the other social media adresses to see this kind of works!\n",
    "\n",
    "1. [GitHub](https://github.com/KeskinHakan)\n",
    "2. [LinkedIn](https://www.linkedin.com/in/hakan-keskin-/)\n",
    "3. [Medium](https://medium.com/@hakan-keskin)\n"
   ]
  }
 ],
 "metadata": {
  "kernelspec": {
   "display_name": "Python 3",
   "language": "python",
   "name": "python3"
  },
  "language_info": {
   "codemirror_mode": {
    "name": "ipython",
    "version": 3
   },
   "file_extension": ".py",
   "mimetype": "text/x-python",
   "name": "python",
   "nbconvert_exporter": "python",
   "pygments_lexer": "ipython3",
   "version": "3.7.12"
  },
  "papermill": {
   "default_parameters": {},
   "duration": 13.91382,
   "end_time": "2023-03-14T20:19:52.277805",
   "environment_variables": {},
   "exception": null,
   "input_path": "__notebook__.ipynb",
   "output_path": "__notebook__.ipynb",
   "parameters": {},
   "start_time": "2023-03-14T20:19:38.363985",
   "version": "2.4.0"
  }
 },
 "nbformat": 4,
 "nbformat_minor": 5
}
